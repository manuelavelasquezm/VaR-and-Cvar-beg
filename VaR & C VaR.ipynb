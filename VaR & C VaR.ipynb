{
 "cells": [
  {
   "cell_type": "code",
   "execution_count": 67,
   "id": "2cb12ef1",
   "metadata": {},
   "outputs": [],
   "source": [
    "import pandas as pd\n",
    "import numpy as np\n",
    "from pandas_datareader import data as dt\n",
    "import matplotlib.pyplot as plt\n",
    "import yfinance as yf\n",
    "from pylab import *"
   ]
  },
  {
   "cell_type": "code",
   "execution_count": 68,
   "id": "d63e270a",
   "metadata": {},
   "outputs": [],
   "source": [
    "startdate='2019-01-01'\n",
    "enddate='2021-05-14'"
   ]
  },
  {
   "cell_type": "code",
   "execution_count": 69,
   "id": "af97a1ca",
   "metadata": {},
   "outputs": [],
   "source": [
    "def get_assets(assets):\n",
    "    pf=pd.DataFrame()\n",
    "    for elements in assets:\n",
    "        pf[elements]=dt.DataReader(elements,data_source='yahoo',start=startdate,end=enddate)['Adj Close']\n",
    "    return pf "
   ]
  },
  {
   "cell_type": "code",
   "execution_count": 70,
   "id": "89b2ce33",
   "metadata": {},
   "outputs": [
    {
     "data": {
      "text/html": [
       "<div>\n",
       "<style scoped>\n",
       "    .dataframe tbody tr th:only-of-type {\n",
       "        vertical-align: middle;\n",
       "    }\n",
       "\n",
       "    .dataframe tbody tr th {\n",
       "        vertical-align: top;\n",
       "    }\n",
       "\n",
       "    .dataframe thead th {\n",
       "        text-align: right;\n",
       "    }\n",
       "</style>\n",
       "<table border=\"1\" class=\"dataframe\">\n",
       "  <thead>\n",
       "    <tr style=\"text-align: right;\">\n",
       "      <th></th>\n",
       "      <th>TSLA</th>\n",
       "    </tr>\n",
       "    <tr>\n",
       "      <th>Date</th>\n",
       "      <th></th>\n",
       "    </tr>\n",
       "  </thead>\n",
       "  <tbody>\n",
       "    <tr>\n",
       "      <th>2019-01-02</th>\n",
       "      <td>6202.40%</td>\n",
       "    </tr>\n",
       "    <tr>\n",
       "      <th>2019-01-03</th>\n",
       "      <td>6007.20%</td>\n",
       "    </tr>\n",
       "    <tr>\n",
       "      <th>2019-01-04</th>\n",
       "      <td>6353.80%</td>\n",
       "    </tr>\n",
       "    <tr>\n",
       "      <th>2019-01-07</th>\n",
       "      <td>6699.20%</td>\n",
       "    </tr>\n",
       "    <tr>\n",
       "      <th>2019-01-08</th>\n",
       "      <td>6707.00%</td>\n",
       "    </tr>\n",
       "  </tbody>\n",
       "</table>\n",
       "</div>"
      ],
      "text/plain": [
       "               TSLA\n",
       "Date               \n",
       "2019-01-02 6202.40%\n",
       "2019-01-03 6007.20%\n",
       "2019-01-04 6353.80%\n",
       "2019-01-07 6699.20%\n",
       "2019-01-08 6707.00%"
      ]
     },
     "execution_count": 70,
     "metadata": {},
     "output_type": "execute_result"
    }
   ],
   "source": [
    "list_assets=['TSLA']\n",
    "assets=get_assets(list_assets)\n",
    "assets.head()"
   ]
  },
  {
   "cell_type": "code",
   "execution_count": 71,
   "id": "6a1ac542",
   "metadata": {},
   "outputs": [],
   "source": [
    "#pd.options.display.float_format = '{0:.2%}'.format\n",
    "rt=np.log(assets)-np.log(assets.shift(1))"
   ]
  },
  {
   "cell_type": "code",
   "execution_count": 72,
   "id": "1e2b54c9",
   "metadata": {},
   "outputs": [
    {
     "data": {
      "text/html": [
       "<div>\n",
       "<style scoped>\n",
       "    .dataframe tbody tr th:only-of-type {\n",
       "        vertical-align: middle;\n",
       "    }\n",
       "\n",
       "    .dataframe tbody tr th {\n",
       "        vertical-align: top;\n",
       "    }\n",
       "\n",
       "    .dataframe thead th {\n",
       "        text-align: right;\n",
       "    }\n",
       "</style>\n",
       "<table border=\"1\" class=\"dataframe\">\n",
       "  <thead>\n",
       "    <tr style=\"text-align: right;\">\n",
       "      <th></th>\n",
       "      <th>TSLA</th>\n",
       "    </tr>\n",
       "    <tr>\n",
       "      <th>Date</th>\n",
       "      <th></th>\n",
       "    </tr>\n",
       "  </thead>\n",
       "  <tbody>\n",
       "    <tr>\n",
       "      <th>2019-01-03</th>\n",
       "      <td>-3.20%</td>\n",
       "    </tr>\n",
       "    <tr>\n",
       "      <th>2019-01-04</th>\n",
       "      <td>5.61%</td>\n",
       "    </tr>\n",
       "    <tr>\n",
       "      <th>2019-01-07</th>\n",
       "      <td>5.29%</td>\n",
       "    </tr>\n",
       "    <tr>\n",
       "      <th>2019-01-08</th>\n",
       "      <td>0.12%</td>\n",
       "    </tr>\n",
       "    <tr>\n",
       "      <th>2019-01-09</th>\n",
       "      <td>0.94%</td>\n",
       "    </tr>\n",
       "    <tr>\n",
       "      <th>...</th>\n",
       "      <td>...</td>\n",
       "    </tr>\n",
       "    <tr>\n",
       "      <th>2021-05-10</th>\n",
       "      <td>-6.66%</td>\n",
       "    </tr>\n",
       "    <tr>\n",
       "      <th>2021-05-11</th>\n",
       "      <td>-1.90%</td>\n",
       "    </tr>\n",
       "    <tr>\n",
       "      <th>2021-05-12</th>\n",
       "      <td>-4.53%</td>\n",
       "    </tr>\n",
       "    <tr>\n",
       "      <th>2021-05-13</th>\n",
       "      <td>-3.13%</td>\n",
       "    </tr>\n",
       "    <tr>\n",
       "      <th>2021-05-14</th>\n",
       "      <td>3.11%</td>\n",
       "    </tr>\n",
       "  </tbody>\n",
       "</table>\n",
       "<p>596 rows × 1 columns</p>\n",
       "</div>"
      ],
      "text/plain": [
       "             TSLA\n",
       "Date             \n",
       "2019-01-03 -3.20%\n",
       "2019-01-04  5.61%\n",
       "2019-01-07  5.29%\n",
       "2019-01-08  0.12%\n",
       "2019-01-09  0.94%\n",
       "...           ...\n",
       "2021-05-10 -6.66%\n",
       "2021-05-11 -1.90%\n",
       "2021-05-12 -4.53%\n",
       "2021-05-13 -3.13%\n",
       "2021-05-14  3.11%\n",
       "\n",
       "[596 rows x 1 columns]"
      ]
     },
     "execution_count": 72,
     "metadata": {},
     "output_type": "execute_result"
    }
   ],
   "source": [
    "rt=rt.dropna()\n",
    "rt"
   ]
  },
  {
   "cell_type": "code",
   "execution_count": 73,
   "id": "1b28599e",
   "metadata": {},
   "outputs": [
    {
     "data": {
      "text/plain": [
       "[<matplotlib.lines.Line2D at 0x1cc561f72b0>]"
      ]
     },
     "execution_count": 73,
     "metadata": {},
     "output_type": "execute_result"
    },
    {
     "data": {
      "image/png": "[encoded data removed]",
      "text/plain": [
       "<Figure size 432x288 with 1 Axes>"
      ]
     },
     "metadata": {
      "needs_background": "light"
     },
     "output_type": "display_data"
    }
   ],
   "source": [
    "plt.plot(rt)"
   ]
  },
  {
   "cell_type": "markdown",
   "id": "9a6f7a66",
   "metadata": {},
   "source": [
    "## Valor en riego"
   ]
  },
  {
   "cell_type": "code",
   "execution_count": 74,
   "id": "84e63163",
   "metadata": {},
   "outputs": [
    {
     "name": "stdout",
     "output_type": "stream",
     "text": [
      "VaR -0.06%\n"
     ]
    }
   ],
   "source": [
    "var_per=5\n",
    "var_95=np.percentile(rt,var_per)\n",
    "print('VaR {0:.2f}%'.format(var_95))\n"
   ]
  },
  {
   "cell_type": "markdown",
   "id": "8eea75e6",
   "metadata": {},
   "source": [
    "## C- VaR"
   ]
  },
  {
   "cell_type": "code",
   "execution_count": 75,
   "id": "0d414556",
   "metadata": {},
   "outputs": [
    {
     "data": {
      "text/plain": [
       "TSLA   -10.62%\n",
       "dtype: float64"
      ]
     },
     "execution_count": 75,
     "metadata": {},
     "output_type": "execute_result"
    }
   ],
   "source": [
    "cvar_95=rt[rt<=var_95].mean()\n",
    "cvar_95"
   ]
  },
  {
   "cell_type": "markdown",
   "id": "ee516404",
   "metadata": {},
   "source": [
    "## Gráfico de retornos + VaR"
   ]
  },
  {
   "cell_type": "code",
   "execution_count": 76,
   "id": "477571eb",
   "metadata": {},
   "outputs": [
    {
     "data": {
      "text/plain": [
       "Text(0.5, 1.0, 'VaR')"
      ]
     },
     "execution_count": 76,
     "metadata": {},
     "output_type": "execute_result"
    },
    {
     "data": {
      "image/png": "[encoded data removed]",
      "text/plain": [
       "<Figure size 432x288 with 1 Axes>"
      ]
     },
     "metadata": {
      "needs_background": "light"
     },
     "output_type": "display_data"
    }
   ],
   "source": [
    "plt.plot(rt)\n",
    "axhline(var_95,color='g',xmax=1)\n",
    "#axhline(cvar_95,color='g',xmax=1)\n",
    "plt.title('VaR')\n"
   ]
  },
  {
   "cell_type": "code",
   "execution_count": null,
   "id": "362430c5",
   "metadata": {},
   "outputs": [],
   "source": []
  }
 ],
 "metadata": {
  "kernelspec": {
   "display_name": "Python 3",
   "language": "python",
   "name": "python3"
  },
  "language_info": {
   "codemirror_mode": {
    "name": "ipython",
    "version": 3
   },
   "file_extension": ".py",
   "mimetype": "text/x-python",
   "name": "python",
   "nbconvert_exporter": "python",
   "pygments_lexer": "ipython3",
   "version": "3.9.1"
  }
 },
 "nbformat": 4,
 "nbformat_minor": 5
}
